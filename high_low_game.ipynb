{
  "nbformat": 4,
  "nbformat_minor": 0,
  "metadata": {
    "colab": {
      "provenance": []
    },
    "kernelspec": {
      "name": "python3",
      "display_name": "Python 3"
    },
    "language_info": {
      "name": "python"
    }
  },
  "cells": [
    {
      "cell_type": "code",
      "source": [
        "import random\n",
        "\n",
        "# Generate random numbers\n",
        "NUM_ME = random.randint(1, 100)\n",
        "NUM_COMP = random.randint(1, 100)\n",
        "\n",
        "def guessing():\n",
        "    points = 0\n",
        "    ROUND_NUM = 0 # Initialize ROUND_NUM here, before the while loop\n",
        "    print(\"\"\"Welcome to the High-Low Game!\n",
        "      ----------------------------------------------\"\"\")\n",
        "\n",
        "    while ROUND_NUM < 5:  # Stop the game after 5 rounds\n",
        "        ROUND_NUM  += 1  # Increment round number\n",
        "        print(f\"\\n--- Round {ROUND_NUM} ---\\nYour number: {NUM_ME}\")\n",
        "        your_guess = input(\"Do you think your number is 'higher' or 'lower' than the computer's? \").lower()\n",
        "\n",
        "        if your_guess == \"higher\":\n",
        "            if NUM_ME > NUM_COMP:\n",
        "                points += 1\n",
        "                print(f\"You were right, the computer's number was {NUM_COMP}\\nYour score is now : {points}.\")\n",
        "            else:\n",
        "                print(f\"Awww, that's incorrect. The computer's number was {NUM_COMP}\\nYour score is now {points}.\")\n",
        "        elif your_guess == \"lower\":\n",
        "            if NUM_ME < NUM_COMP:\n",
        "                points += 1\n",
        "                print(f\"You were right, the computer's number was {NUM_COMP}\\nYour score is now : {points}.\")\n",
        "            else:\n",
        "                print(f\"Awww, that's incorrect. The computer's number was {NUM_COMP}\\nYour score is now {points}.\")\n",
        "        elif NUM_ME == NUM_COMP:\n",
        "            print(\"It's a tie! No point.\")\n",
        "        else:\n",
        "            print(\"Invalid response. Please enter 'higher' or 'lower'.\")\n",
        "            continue\n",
        "\n",
        "        # End of the game\n",
        "    print(\"Thanks for playing.\\nGood Job you played really well!\")\n",
        "\n",
        "def main():\n",
        "    \"\"\"We are going to develop a game that generates two random numbers, one for the player and one for the computer.\n",
        "    The player has to guess whether the number generated for the computer is higher or lower than the number generated for the player.\n",
        "    The player can see their number but cannot see the computer's number.\"\"\"\n",
        "\n",
        "    guessing()\n",
        "\n",
        "main()"
      ],
      "metadata": {
        "colab": {
          "base_uri": "https://localhost:8080/"
        },
        "id": "t_N66wMNaC-X",
        "outputId": "ab43b126-a305-4db6-f86d-782ab5f9a59e"
      },
      "execution_count": 21,
      "outputs": [
        {
          "output_type": "stream",
          "name": "stdout",
          "text": [
            "Welcome to the High-Low Game!\n",
            "    ----------------------------------------------\n",
            "\n",
            "--- Round 1 ---\n",
            "Your number: 9\n",
            "Do you think your number is 'higher' or 'lower' than the computer's? higher\n",
            "Awww, that's incorrect. The computer's number was 72\n",
            "Your score is now 0.\n",
            "\n",
            "--- Round 2 ---\n",
            "Your number: 9\n",
            "Do you think your number is 'higher' or 'lower' than the computer's? lower\n",
            "You were right, the computer's number was 72\n",
            "Your score is now : 1.\n",
            "\n",
            "--- Round 3 ---\n",
            "Your number: 9\n",
            "Do you think your number is 'higher' or 'lower' than the computer's? lower\n",
            "You were right, the computer's number was 72\n",
            "Your score is now : 2.\n",
            "\n",
            "--- Round 4 ---\n",
            "Your number: 9\n",
            "Do you think your number is 'higher' or 'lower' than the computer's? higher\n",
            "Awww, that's incorrect. The computer's number was 72\n",
            "Your score is now 2.\n",
            "\n",
            "--- Round 5 ---\n",
            "Your number: 9\n",
            "Do you think your number is 'higher' or 'lower' than the computer's? higher\n",
            "Awww, that's incorrect. The computer's number was 72\n",
            "Your score is now 2.\n",
            "Thanks for playing.\n",
            "Good Job you played really well!\n"
          ]
        }
      ]
    },
    {
      "cell_type": "code",
      "source": [],
      "metadata": {
        "id": "ceT9_X_2eyn6"
      },
      "execution_count": null,
      "outputs": []
    }
  ]
}